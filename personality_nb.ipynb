{
 "cells": [
  {
   "cell_type": "code",
   "execution_count": 1,
   "id": "e59c592b",
   "metadata": {},
   "outputs": [],
   "source": [
    "import numpy as np\n",
    "import pandas as pd\n",
    "import matplotlib.pyplot as plt"
   ]
  },
  {
   "cell_type": "code",
   "execution_count": 2,
   "id": "bd9c7c1d",
   "metadata": {},
   "outputs": [
    {
     "data": {
      "text/html": [
       "<div>\n",
       "<style scoped>\n",
       "    .dataframe tbody tr th:only-of-type {\n",
       "        vertical-align: middle;\n",
       "    }\n",
       "\n",
       "    .dataframe tbody tr th {\n",
       "        vertical-align: top;\n",
       "    }\n",
       "\n",
       "    .dataframe thead th {\n",
       "        text-align: right;\n",
       "    }\n",
       "</style>\n",
       "<table border=\"1\" class=\"dataframe\">\n",
       "  <thead>\n",
       "    <tr style=\"text-align: right;\">\n",
       "      <th></th>\n",
       "      <th>Time_spent_Alone</th>\n",
       "      <th>Stage_fear</th>\n",
       "      <th>Social_event_attendance</th>\n",
       "      <th>Going_outside</th>\n",
       "      <th>Drained_after_socializing</th>\n",
       "      <th>Friends_circle_size</th>\n",
       "      <th>Post_frequency</th>\n",
       "      <th>Personality</th>\n",
       "    </tr>\n",
       "  </thead>\n",
       "  <tbody>\n",
       "    <tr>\n",
       "      <th>0</th>\n",
       "      <td>4.0</td>\n",
       "      <td>No</td>\n",
       "      <td>4.0</td>\n",
       "      <td>6.0</td>\n",
       "      <td>No</td>\n",
       "      <td>13.0</td>\n",
       "      <td>5.0</td>\n",
       "      <td>Extrovert</td>\n",
       "    </tr>\n",
       "    <tr>\n",
       "      <th>1</th>\n",
       "      <td>9.0</td>\n",
       "      <td>Yes</td>\n",
       "      <td>0.0</td>\n",
       "      <td>0.0</td>\n",
       "      <td>Yes</td>\n",
       "      <td>0.0</td>\n",
       "      <td>3.0</td>\n",
       "      <td>Introvert</td>\n",
       "    </tr>\n",
       "    <tr>\n",
       "      <th>2</th>\n",
       "      <td>9.0</td>\n",
       "      <td>Yes</td>\n",
       "      <td>1.0</td>\n",
       "      <td>2.0</td>\n",
       "      <td>Yes</td>\n",
       "      <td>5.0</td>\n",
       "      <td>2.0</td>\n",
       "      <td>Introvert</td>\n",
       "    </tr>\n",
       "    <tr>\n",
       "      <th>3</th>\n",
       "      <td>0.0</td>\n",
       "      <td>No</td>\n",
       "      <td>6.0</td>\n",
       "      <td>7.0</td>\n",
       "      <td>No</td>\n",
       "      <td>14.0</td>\n",
       "      <td>8.0</td>\n",
       "      <td>Extrovert</td>\n",
       "    </tr>\n",
       "    <tr>\n",
       "      <th>4</th>\n",
       "      <td>3.0</td>\n",
       "      <td>No</td>\n",
       "      <td>9.0</td>\n",
       "      <td>4.0</td>\n",
       "      <td>No</td>\n",
       "      <td>8.0</td>\n",
       "      <td>5.0</td>\n",
       "      <td>Extrovert</td>\n",
       "    </tr>\n",
       "    <tr>\n",
       "      <th>...</th>\n",
       "      <td>...</td>\n",
       "      <td>...</td>\n",
       "      <td>...</td>\n",
       "      <td>...</td>\n",
       "      <td>...</td>\n",
       "      <td>...</td>\n",
       "      <td>...</td>\n",
       "      <td>...</td>\n",
       "    </tr>\n",
       "    <tr>\n",
       "      <th>2895</th>\n",
       "      <td>3.0</td>\n",
       "      <td>No</td>\n",
       "      <td>7.0</td>\n",
       "      <td>6.0</td>\n",
       "      <td>No</td>\n",
       "      <td>6.0</td>\n",
       "      <td>6.0</td>\n",
       "      <td>Extrovert</td>\n",
       "    </tr>\n",
       "    <tr>\n",
       "      <th>2896</th>\n",
       "      <td>3.0</td>\n",
       "      <td>No</td>\n",
       "      <td>8.0</td>\n",
       "      <td>3.0</td>\n",
       "      <td>No</td>\n",
       "      <td>14.0</td>\n",
       "      <td>9.0</td>\n",
       "      <td>Extrovert</td>\n",
       "    </tr>\n",
       "    <tr>\n",
       "      <th>2897</th>\n",
       "      <td>4.0</td>\n",
       "      <td>Yes</td>\n",
       "      <td>1.0</td>\n",
       "      <td>1.0</td>\n",
       "      <td>Yes</td>\n",
       "      <td>4.0</td>\n",
       "      <td>0.0</td>\n",
       "      <td>Introvert</td>\n",
       "    </tr>\n",
       "    <tr>\n",
       "      <th>2898</th>\n",
       "      <td>11.0</td>\n",
       "      <td>Yes</td>\n",
       "      <td>1.0</td>\n",
       "      <td>NaN</td>\n",
       "      <td>Yes</td>\n",
       "      <td>2.0</td>\n",
       "      <td>0.0</td>\n",
       "      <td>Introvert</td>\n",
       "    </tr>\n",
       "    <tr>\n",
       "      <th>2899</th>\n",
       "      <td>3.0</td>\n",
       "      <td>No</td>\n",
       "      <td>6.0</td>\n",
       "      <td>6.0</td>\n",
       "      <td>No</td>\n",
       "      <td>6.0</td>\n",
       "      <td>9.0</td>\n",
       "      <td>Extrovert</td>\n",
       "    </tr>\n",
       "  </tbody>\n",
       "</table>\n",
       "<p>2900 rows × 8 columns</p>\n",
       "</div>"
      ],
      "text/plain": [
       "      Time_spent_Alone Stage_fear  Social_event_attendance  Going_outside  \\\n",
       "0                  4.0         No                      4.0            6.0   \n",
       "1                  9.0        Yes                      0.0            0.0   \n",
       "2                  9.0        Yes                      1.0            2.0   \n",
       "3                  0.0         No                      6.0            7.0   \n",
       "4                  3.0         No                      9.0            4.0   \n",
       "...                ...        ...                      ...            ...   \n",
       "2895               3.0         No                      7.0            6.0   \n",
       "2896               3.0         No                      8.0            3.0   \n",
       "2897               4.0        Yes                      1.0            1.0   \n",
       "2898              11.0        Yes                      1.0            NaN   \n",
       "2899               3.0         No                      6.0            6.0   \n",
       "\n",
       "     Drained_after_socializing  Friends_circle_size  Post_frequency  \\\n",
       "0                           No                 13.0             5.0   \n",
       "1                          Yes                  0.0             3.0   \n",
       "2                          Yes                  5.0             2.0   \n",
       "3                           No                 14.0             8.0   \n",
       "4                           No                  8.0             5.0   \n",
       "...                        ...                  ...             ...   \n",
       "2895                        No                  6.0             6.0   \n",
       "2896                        No                 14.0             9.0   \n",
       "2897                       Yes                  4.0             0.0   \n",
       "2898                       Yes                  2.0             0.0   \n",
       "2899                        No                  6.0             9.0   \n",
       "\n",
       "     Personality  \n",
       "0      Extrovert  \n",
       "1      Introvert  \n",
       "2      Introvert  \n",
       "3      Extrovert  \n",
       "4      Extrovert  \n",
       "...          ...  \n",
       "2895   Extrovert  \n",
       "2896   Extrovert  \n",
       "2897   Introvert  \n",
       "2898   Introvert  \n",
       "2899   Extrovert  \n",
       "\n",
       "[2900 rows x 8 columns]"
      ]
     },
     "execution_count": 2,
     "metadata": {},
     "output_type": "execute_result"
    }
   ],
   "source": [
    "df=pd.read_csv('personality_dataset.csv')\n",
    "df"
   ]
  },
  {
   "cell_type": "code",
   "execution_count": 3,
   "id": "69fbc096",
   "metadata": {},
   "outputs": [
    {
     "data": {
      "text/html": [
       "<div>\n",
       "<style scoped>\n",
       "    .dataframe tbody tr th:only-of-type {\n",
       "        vertical-align: middle;\n",
       "    }\n",
       "\n",
       "    .dataframe tbody tr th {\n",
       "        vertical-align: top;\n",
       "    }\n",
       "\n",
       "    .dataframe thead th {\n",
       "        text-align: right;\n",
       "    }\n",
       "</style>\n",
       "<table border=\"1\" class=\"dataframe\">\n",
       "  <thead>\n",
       "    <tr style=\"text-align: right;\">\n",
       "      <th></th>\n",
       "      <th>Time_spent_Alone</th>\n",
       "      <th>Stage_fear</th>\n",
       "      <th>Social_event_attendance</th>\n",
       "      <th>Going_outside</th>\n",
       "      <th>Drained_after_socializing</th>\n",
       "      <th>Friends_circle_size</th>\n",
       "      <th>Post_frequency</th>\n",
       "      <th>Personality</th>\n",
       "    </tr>\n",
       "  </thead>\n",
       "  <tbody>\n",
       "    <tr>\n",
       "      <th>0</th>\n",
       "      <td>4.0</td>\n",
       "      <td>No</td>\n",
       "      <td>4.0</td>\n",
       "      <td>6.0</td>\n",
       "      <td>No</td>\n",
       "      <td>13.0</td>\n",
       "      <td>5.0</td>\n",
       "      <td>Extrovert</td>\n",
       "    </tr>\n",
       "    <tr>\n",
       "      <th>1</th>\n",
       "      <td>9.0</td>\n",
       "      <td>Yes</td>\n",
       "      <td>0.0</td>\n",
       "      <td>0.0</td>\n",
       "      <td>Yes</td>\n",
       "      <td>0.0</td>\n",
       "      <td>3.0</td>\n",
       "      <td>Introvert</td>\n",
       "    </tr>\n",
       "    <tr>\n",
       "      <th>2</th>\n",
       "      <td>9.0</td>\n",
       "      <td>Yes</td>\n",
       "      <td>1.0</td>\n",
       "      <td>2.0</td>\n",
       "      <td>Yes</td>\n",
       "      <td>5.0</td>\n",
       "      <td>2.0</td>\n",
       "      <td>Introvert</td>\n",
       "    </tr>\n",
       "    <tr>\n",
       "      <th>3</th>\n",
       "      <td>0.0</td>\n",
       "      <td>No</td>\n",
       "      <td>6.0</td>\n",
       "      <td>7.0</td>\n",
       "      <td>No</td>\n",
       "      <td>14.0</td>\n",
       "      <td>8.0</td>\n",
       "      <td>Extrovert</td>\n",
       "    </tr>\n",
       "    <tr>\n",
       "      <th>4</th>\n",
       "      <td>3.0</td>\n",
       "      <td>No</td>\n",
       "      <td>9.0</td>\n",
       "      <td>4.0</td>\n",
       "      <td>No</td>\n",
       "      <td>8.0</td>\n",
       "      <td>5.0</td>\n",
       "      <td>Extrovert</td>\n",
       "    </tr>\n",
       "  </tbody>\n",
       "</table>\n",
       "</div>"
      ],
      "text/plain": [
       "   Time_spent_Alone Stage_fear  Social_event_attendance  Going_outside  \\\n",
       "0               4.0         No                      4.0            6.0   \n",
       "1               9.0        Yes                      0.0            0.0   \n",
       "2               9.0        Yes                      1.0            2.0   \n",
       "3               0.0         No                      6.0            7.0   \n",
       "4               3.0         No                      9.0            4.0   \n",
       "\n",
       "  Drained_after_socializing  Friends_circle_size  Post_frequency Personality  \n",
       "0                        No                 13.0             5.0   Extrovert  \n",
       "1                       Yes                  0.0             3.0   Introvert  \n",
       "2                       Yes                  5.0             2.0   Introvert  \n",
       "3                        No                 14.0             8.0   Extrovert  \n",
       "4                        No                  8.0             5.0   Extrovert  "
      ]
     },
     "execution_count": 3,
     "metadata": {},
     "output_type": "execute_result"
    }
   ],
   "source": [
    "df.head()"
   ]
  },
  {
   "cell_type": "code",
   "execution_count": 4,
   "id": "1899f134",
   "metadata": {},
   "outputs": [
    {
     "data": {
      "text/html": [
       "<div>\n",
       "<style scoped>\n",
       "    .dataframe tbody tr th:only-of-type {\n",
       "        vertical-align: middle;\n",
       "    }\n",
       "\n",
       "    .dataframe tbody tr th {\n",
       "        vertical-align: top;\n",
       "    }\n",
       "\n",
       "    .dataframe thead th {\n",
       "        text-align: right;\n",
       "    }\n",
       "</style>\n",
       "<table border=\"1\" class=\"dataframe\">\n",
       "  <thead>\n",
       "    <tr style=\"text-align: right;\">\n",
       "      <th></th>\n",
       "      <th>Time_spent_Alone</th>\n",
       "      <th>Stage_fear</th>\n",
       "      <th>Social_event_attendance</th>\n",
       "      <th>Going_outside</th>\n",
       "      <th>Drained_after_socializing</th>\n",
       "      <th>Friends_circle_size</th>\n",
       "      <th>Post_frequency</th>\n",
       "      <th>Personality</th>\n",
       "    </tr>\n",
       "  </thead>\n",
       "  <tbody>\n",
       "    <tr>\n",
       "      <th>2895</th>\n",
       "      <td>3.0</td>\n",
       "      <td>No</td>\n",
       "      <td>7.0</td>\n",
       "      <td>6.0</td>\n",
       "      <td>No</td>\n",
       "      <td>6.0</td>\n",
       "      <td>6.0</td>\n",
       "      <td>Extrovert</td>\n",
       "    </tr>\n",
       "    <tr>\n",
       "      <th>2896</th>\n",
       "      <td>3.0</td>\n",
       "      <td>No</td>\n",
       "      <td>8.0</td>\n",
       "      <td>3.0</td>\n",
       "      <td>No</td>\n",
       "      <td>14.0</td>\n",
       "      <td>9.0</td>\n",
       "      <td>Extrovert</td>\n",
       "    </tr>\n",
       "    <tr>\n",
       "      <th>2897</th>\n",
       "      <td>4.0</td>\n",
       "      <td>Yes</td>\n",
       "      <td>1.0</td>\n",
       "      <td>1.0</td>\n",
       "      <td>Yes</td>\n",
       "      <td>4.0</td>\n",
       "      <td>0.0</td>\n",
       "      <td>Introvert</td>\n",
       "    </tr>\n",
       "    <tr>\n",
       "      <th>2898</th>\n",
       "      <td>11.0</td>\n",
       "      <td>Yes</td>\n",
       "      <td>1.0</td>\n",
       "      <td>NaN</td>\n",
       "      <td>Yes</td>\n",
       "      <td>2.0</td>\n",
       "      <td>0.0</td>\n",
       "      <td>Introvert</td>\n",
       "    </tr>\n",
       "    <tr>\n",
       "      <th>2899</th>\n",
       "      <td>3.0</td>\n",
       "      <td>No</td>\n",
       "      <td>6.0</td>\n",
       "      <td>6.0</td>\n",
       "      <td>No</td>\n",
       "      <td>6.0</td>\n",
       "      <td>9.0</td>\n",
       "      <td>Extrovert</td>\n",
       "    </tr>\n",
       "  </tbody>\n",
       "</table>\n",
       "</div>"
      ],
      "text/plain": [
       "      Time_spent_Alone Stage_fear  Social_event_attendance  Going_outside  \\\n",
       "2895               3.0         No                      7.0            6.0   \n",
       "2896               3.0         No                      8.0            3.0   \n",
       "2897               4.0        Yes                      1.0            1.0   \n",
       "2898              11.0        Yes                      1.0            NaN   \n",
       "2899               3.0         No                      6.0            6.0   \n",
       "\n",
       "     Drained_after_socializing  Friends_circle_size  Post_frequency  \\\n",
       "2895                        No                  6.0             6.0   \n",
       "2896                        No                 14.0             9.0   \n",
       "2897                       Yes                  4.0             0.0   \n",
       "2898                       Yes                  2.0             0.0   \n",
       "2899                        No                  6.0             9.0   \n",
       "\n",
       "     Personality  \n",
       "2895   Extrovert  \n",
       "2896   Extrovert  \n",
       "2897   Introvert  \n",
       "2898   Introvert  \n",
       "2899   Extrovert  "
      ]
     },
     "execution_count": 4,
     "metadata": {},
     "output_type": "execute_result"
    }
   ],
   "source": [
    "df.tail()"
   ]
  },
  {
   "cell_type": "code",
   "execution_count": 5,
   "id": "d097c2e9",
   "metadata": {},
   "outputs": [
    {
     "data": {
      "text/plain": [
       "(2900, 8)"
      ]
     },
     "execution_count": 5,
     "metadata": {},
     "output_type": "execute_result"
    }
   ],
   "source": [
    "df.shape"
   ]
  },
  {
   "cell_type": "code",
   "execution_count": 6,
   "id": "6120aca0",
   "metadata": {},
   "outputs": [
    {
     "data": {
      "text/plain": [
       "Index(['Time_spent_Alone', 'Stage_fear', 'Social_event_attendance',\n",
       "       'Going_outside', 'Drained_after_socializing', 'Friends_circle_size',\n",
       "       'Post_frequency', 'Personality'],\n",
       "      dtype='object')"
      ]
     },
     "execution_count": 6,
     "metadata": {},
     "output_type": "execute_result"
    }
   ],
   "source": [
    "df.columns"
   ]
  },
  {
   "cell_type": "code",
   "execution_count": 7,
   "id": "1fd0f68f",
   "metadata": {},
   "outputs": [
    {
     "data": {
      "text/plain": [
       "Time_spent_Alone             float64\n",
       "Stage_fear                    object\n",
       "Social_event_attendance      float64\n",
       "Going_outside                float64\n",
       "Drained_after_socializing     object\n",
       "Friends_circle_size          float64\n",
       "Post_frequency               float64\n",
       "Personality                   object\n",
       "dtype: object"
      ]
     },
     "execution_count": 7,
     "metadata": {},
     "output_type": "execute_result"
    }
   ],
   "source": [
    "df.dtypes"
   ]
  },
  {
   "cell_type": "code",
   "execution_count": 8,
   "id": "197dc8a1",
   "metadata": {},
   "outputs": [
    {
     "data": {
      "text/plain": [
       "Stage_fear\n",
       "No     1417\n",
       "Yes    1410\n",
       "Name: count, dtype: int64"
      ]
     },
     "execution_count": 8,
     "metadata": {},
     "output_type": "execute_result"
    }
   ],
   "source": [
    "g1=df['Stage_fear'].value_counts()\n",
    "g1"
   ]
  },
  {
   "cell_type": "code",
   "execution_count": 9,
   "id": "9d2f2010",
   "metadata": {},
   "outputs": [
    {
     "data": {
      "text/plain": [
       "Text(0.5, 1.0, 'Stage_fear_count')"
      ]
     },
     "execution_count": 9,
     "metadata": {},
     "output_type": "execute_result"
    },
    {
     "data": {
      "image/png": "[encoded data removed]",
      "text/plain": [
       "<Figure size 640x480 with 1 Axes>"
      ]
     },
     "metadata": {},
     "output_type": "display_data"
    }
   ],
   "source": [
    "plt.bar(g1.index,g1.values,color='r')\n",
    "plt.xlabel('Stage_fear')\n",
    "plt.ylabel('count')\n",
    "plt.title('Stage_fear_count')"
   ]
  },
  {
   "cell_type": "code",
   "execution_count": 10,
   "id": "eab2b75b",
   "metadata": {},
   "outputs": [
    {
     "data": {
      "text/plain": [
       "Drained_after_socializing\n",
       "No     1441\n",
       "Yes    1407\n",
       "Name: count, dtype: int64"
      ]
     },
     "execution_count": 10,
     "metadata": {},
     "output_type": "execute_result"
    }
   ],
   "source": [
    "g2=df['Drained_after_socializing'].value_counts()\n",
    "g2"
   ]
  },
  {
   "cell_type": "code",
   "execution_count": 11,
   "id": "a559bc75",
   "metadata": {},
   "outputs": [
    {
     "data": {
      "text/plain": [
       "Text(0.5, 1.0, 'Drained_after_socializing_Count')"
      ]
     },
     "execution_count": 11,
     "metadata": {},
     "output_type": "execute_result"
    },
    {
     "data": {
      "image/png": "[encoded data removed]",
      "text/plain": [
       "<Figure size 640x480 with 1 Axes>"
      ]
     },
     "metadata": {},
     "output_type": "display_data"
    }
   ],
   "source": [
    "plt.bar(g2.index,g2.values,color='g')\n",
    "plt.xlabel('Drained_after_socializing')\n",
    "plt.ylabel('count')\n",
    "plt.title('Drained_after_socializing_Count')"
   ]
  },
  {
   "cell_type": "code",
   "execution_count": 12,
   "id": "f07d46e3",
   "metadata": {},
   "outputs": [
    {
     "data": {
      "text/plain": [
       "Time_spent_Alone             63\n",
       "Stage_fear                   73\n",
       "Social_event_attendance      62\n",
       "Going_outside                66\n",
       "Drained_after_socializing    52\n",
       "Friends_circle_size          77\n",
       "Post_frequency               65\n",
       "Personality                   0\n",
       "dtype: int64"
      ]
     },
     "execution_count": 12,
     "metadata": {},
     "output_type": "execute_result"
    }
   ],
   "source": [
    "df.isna().sum()"
   ]
  },
  {
   "cell_type": "code",
   "execution_count": 13,
   "id": "763b1c82",
   "metadata": {},
   "outputs": [
    {
     "data": {
      "text/plain": [
       "array([ 4.,  9.,  0.,  3.,  1.,  2., 10.,  6.,  5.,  8., nan,  7., 11.])"
      ]
     },
     "execution_count": 13,
     "metadata": {},
     "output_type": "execute_result"
    }
   ],
   "source": [
    "df['Time_spent_Alone'].unique()"
   ]
  },
  {
   "cell_type": "code",
   "execution_count": 14,
   "id": "2494aa5e",
   "metadata": {},
   "outputs": [
    {
     "data": {
      "text/plain": [
       "array(['No', 'Yes', nan], dtype=object)"
      ]
     },
     "execution_count": 14,
     "metadata": {},
     "output_type": "execute_result"
    }
   ],
   "source": [
    "df['Stage_fear'].unique()"
   ]
  },
  {
   "cell_type": "code",
   "execution_count": 15,
   "id": "5fdb1740",
   "metadata": {},
   "outputs": [
    {
     "data": {
      "text/plain": [
       "array([ 4.,  0.,  1.,  6.,  9.,  7.,  8.,  3.,  5.,  2., 10., nan])"
      ]
     },
     "execution_count": 15,
     "metadata": {},
     "output_type": "execute_result"
    }
   ],
   "source": [
    "df['Social_event_attendance'].unique()"
   ]
  },
  {
   "cell_type": "code",
   "execution_count": 16,
   "id": "af36c3c6",
   "metadata": {},
   "outputs": [
    {
     "data": {
      "text/plain": [
       "array([ 6.,  0.,  2.,  7.,  4.,  5., nan,  3.,  1.])"
      ]
     },
     "execution_count": 16,
     "metadata": {},
     "output_type": "execute_result"
    }
   ],
   "source": [
    "df['Going_outside'].unique()"
   ]
  },
  {
   "cell_type": "code",
   "execution_count": 17,
   "id": "e2004023",
   "metadata": {},
   "outputs": [
    {
     "data": {
      "text/plain": [
       "array(['No', 'Yes', nan], dtype=object)"
      ]
     },
     "execution_count": 17,
     "metadata": {},
     "output_type": "execute_result"
    }
   ],
   "source": [
    "df['Drained_after_socializing'].unique()"
   ]
  },
  {
   "cell_type": "code",
   "execution_count": 18,
   "id": "09db851c",
   "metadata": {},
   "outputs": [
    {
     "data": {
      "text/plain": [
       "array([13.,  0.,  5., 14.,  8.,  6.,  7., 15.,  4., 10.,  1., 12.,  2.,\n",
       "       11.,  9.,  3., nan])"
      ]
     },
     "execution_count": 18,
     "metadata": {},
     "output_type": "execute_result"
    }
   ],
   "source": [
    "df['Friends_circle_size'].unique()"
   ]
  },
  {
   "cell_type": "code",
   "execution_count": 19,
   "id": "6fe866a9",
   "metadata": {},
   "outputs": [
    {
     "data": {
      "text/plain": [
       "array([ 5.,  3.,  2.,  8.,  6.,  7.,  0., 10.,  4.,  1.,  9., nan])"
      ]
     },
     "execution_count": 19,
     "metadata": {},
     "output_type": "execute_result"
    }
   ],
   "source": [
    "df['Post_frequency'].unique()"
   ]
  },
  {
   "cell_type": "code",
   "execution_count": 20,
   "id": "d5f8c81c",
   "metadata": {},
   "outputs": [],
   "source": [
    "df['Time_spent_Alone']=df['Time_spent_Alone'].fillna(df['Time_spent_Alone'].mode() [0])\n",
    "df['Stage_fear']=df['Stage_fear'].fillna(df['Stage_fear'].mode() [0])\n",
    "df['Social_event_attendance']=df['Social_event_attendance'].fillna(df['Social_event_attendance'].mode() [0])\n",
    "df['Going_outside']=df['Going_outside'].fillna(df['Going_outside'].mode() [0])\n",
    "df['Drained_after_socializing']=df['Drained_after_socializing'].fillna(df['Drained_after_socializing'].mode() [0])\n",
    "df['Friends_circle_size']=df['Friends_circle_size'].fillna(df['Friends_circle_size'].mode() [0])\n",
    "df['Post_frequency']=df['Post_frequency'].fillna(df['Post_frequency'].mode() [0])"
   ]
  },
  {
   "cell_type": "code",
   "execution_count": 21,
   "id": "0d597198",
   "metadata": {},
   "outputs": [
    {
     "data": {
      "text/plain": [
       "Time_spent_Alone             0\n",
       "Stage_fear                   0\n",
       "Social_event_attendance      0\n",
       "Going_outside                0\n",
       "Drained_after_socializing    0\n",
       "Friends_circle_size          0\n",
       "Post_frequency               0\n",
       "Personality                  0\n",
       "dtype: int64"
      ]
     },
     "execution_count": 21,
     "metadata": {},
     "output_type": "execute_result"
    }
   ],
   "source": [
    "df.isna().sum()"
   ]
  },
  {
   "cell_type": "code",
   "execution_count": 22,
   "id": "a4414399",
   "metadata": {},
   "outputs": [
    {
     "data": {
      "text/plain": [
       "Time_spent_Alone             float64\n",
       "Stage_fear                    object\n",
       "Social_event_attendance      float64\n",
       "Going_outside                float64\n",
       "Drained_after_socializing     object\n",
       "Friends_circle_size          float64\n",
       "Post_frequency               float64\n",
       "Personality                   object\n",
       "dtype: object"
      ]
     },
     "execution_count": 22,
     "metadata": {},
     "output_type": "execute_result"
    }
   ],
   "source": [
    "df.dtypes"
   ]
  },
  {
   "cell_type": "code",
   "execution_count": 23,
   "id": "5eaa2534",
   "metadata": {},
   "outputs": [],
   "source": [
    "from sklearn.preprocessing import LabelEncoder\n",
    "label=LabelEncoder()\n",
    "df['Stage_fear']=label.fit_transform(df['Stage_fear'])\n",
    "df['Drained_after_socializing']=label.fit_transform(df['Drained_after_socializing'])"
   ]
  },
  {
   "cell_type": "code",
   "execution_count": 24,
   "id": "69957855",
   "metadata": {},
   "outputs": [
    {
     "data": {
      "text/plain": [
       "Time_spent_Alone             float64\n",
       "Stage_fear                     int64\n",
       "Social_event_attendance      float64\n",
       "Going_outside                float64\n",
       "Drained_after_socializing      int64\n",
       "Friends_circle_size          float64\n",
       "Post_frequency               float64\n",
       "Personality                   object\n",
       "dtype: object"
      ]
     },
     "execution_count": 24,
     "metadata": {},
     "output_type": "execute_result"
    }
   ],
   "source": [
    "df.dtypes"
   ]
  },
  {
   "cell_type": "code",
   "execution_count": 25,
   "id": "eb5f8249",
   "metadata": {},
   "outputs": [
    {
     "data": {
      "text/plain": [
       "array([[ 4.,  0.,  4., ...,  0., 13.,  5.],\n",
       "       [ 9.,  1.,  0., ...,  1.,  0.,  3.],\n",
       "       [ 9.,  1.,  1., ...,  1.,  5.,  2.],\n",
       "       ...,\n",
       "       [ 4.,  1.,  1., ...,  1.,  4.,  0.],\n",
       "       [11.,  1.,  1., ...,  1.,  2.,  0.],\n",
       "       [ 3.,  0.,  6., ...,  0.,  6.,  9.]], shape=(2900, 7))"
      ]
     },
     "execution_count": 25,
     "metadata": {},
     "output_type": "execute_result"
    }
   ],
   "source": [
    "x=df.iloc[:,:-1].values\n",
    "x"
   ]
  },
  {
   "cell_type": "code",
   "execution_count": 26,
   "id": "b962fe92",
   "metadata": {},
   "outputs": [
    {
     "data": {
      "text/plain": [
       "2"
      ]
     },
     "execution_count": 26,
     "metadata": {},
     "output_type": "execute_result"
    }
   ],
   "source": [
    "x.ndim"
   ]
  },
  {
   "cell_type": "code",
   "execution_count": 27,
   "id": "a6ed7b94",
   "metadata": {},
   "outputs": [
    {
     "data": {
      "text/plain": [
       "array(['Extrovert', 'Introvert', 'Introvert', ..., 'Introvert',\n",
       "       'Introvert', 'Extrovert'], shape=(2900,), dtype=object)"
      ]
     },
     "execution_count": 27,
     "metadata": {},
     "output_type": "execute_result"
    }
   ],
   "source": [
    "y=df.iloc[:,-1].values\n",
    "y"
   ]
  },
  {
   "cell_type": "code",
   "execution_count": 28,
   "id": "8bdae749",
   "metadata": {},
   "outputs": [
    {
     "data": {
      "text/plain": [
       "1"
      ]
     },
     "execution_count": 28,
     "metadata": {},
     "output_type": "execute_result"
    }
   ],
   "source": [
    "y.ndim"
   ]
  },
  {
   "cell_type": "code",
   "execution_count": 29,
   "id": "842aba63",
   "metadata": {},
   "outputs": [],
   "source": [
    "#Train_Test_Split\n",
    "from sklearn.model_selection import train_test_split\n",
    "x_train,x_test,y_train,y_test=train_test_split(x,y,test_size=0.30,random_state=1)"
   ]
  },
  {
   "cell_type": "code",
   "execution_count": 30,
   "id": "83ef721f",
   "metadata": {},
   "outputs": [
    {
     "data": {
      "text/plain": [
       "array([[ 7.,  1.,  3., ...,  0.,  1.,  1.],\n",
       "       [11.,  1.,  1., ...,  1.,  2.,  0.],\n",
       "       [ 8.,  1.,  2., ...,  1.,  4.,  0.],\n",
       "       ...,\n",
       "       [ 1.,  0.,  5., ...,  0.,  8.,  6.],\n",
       "       [ 4.,  1.,  0., ...,  1.,  2.,  2.],\n",
       "       [ 8.,  1.,  3., ...,  1.,  4.,  0.]], shape=(2030, 7))"
      ]
     },
     "execution_count": 30,
     "metadata": {},
     "output_type": "execute_result"
    }
   ],
   "source": [
    "x_train"
   ]
  },
  {
   "cell_type": "code",
   "execution_count": 31,
   "id": "2c6a8794",
   "metadata": {},
   "outputs": [
    {
     "data": {
      "text/plain": [
       "array(['Introvert', 'Introvert', 'Introvert', ..., 'Extrovert',\n",
       "       'Introvert', 'Introvert'], shape=(2030,), dtype=object)"
      ]
     },
     "execution_count": 31,
     "metadata": {},
     "output_type": "execute_result"
    }
   ],
   "source": [
    "y_train"
   ]
  },
  {
   "cell_type": "code",
   "execution_count": 32,
   "id": "b6b85388",
   "metadata": {},
   "outputs": [
    {
     "data": {
      "text/plain": [
       "array([[ 3.,  0.,  5., ...,  0.,  6.,  6.],\n",
       "       [ 1.,  0.,  9., ...,  0., 10.,  9.],\n",
       "       [ 9.,  1.,  2., ...,  1.,  3.,  2.],\n",
       "       ...,\n",
       "       [11.,  1.,  1., ...,  1.,  2.,  2.],\n",
       "       [ 0.,  0.,  7., ...,  0., 11.,  9.],\n",
       "       [ 8.,  1.,  0., ...,  1.,  4.,  0.]], shape=(870, 7))"
      ]
     },
     "execution_count": 32,
     "metadata": {},
     "output_type": "execute_result"
    }
   ],
   "source": [
    "x_test"
   ]
  },
  {
   "cell_type": "code",
   "execution_count": 33,
   "id": "934b5096",
   "metadata": {},
   "outputs": [
    {
     "data": {
      "text/plain": [
       "array(['Extrovert', 'Extrovert', 'Introvert', 'Extrovert', 'Extrovert',\n",
       "       'Extrovert', 'Extrovert', 'Extrovert', 'Extrovert', 'Introvert',\n",
       "       'Extrovert', 'Extrovert', 'Introvert', 'Introvert', 'Introvert',\n",
       "       'Extrovert', 'Introvert', 'Extrovert', 'Introvert', 'Introvert',\n",
       "       'Extrovert', 'Introvert', 'Introvert', 'Introvert', 'Extrovert',\n",
       "       'Extrovert', 'Introvert', 'Introvert', 'Extrovert', 'Extrovert',\n",
       "       'Introvert', 'Introvert', 'Extrovert', 'Introvert', 'Extrovert',\n",
       "       'Extrovert', 'Introvert', 'Extrovert', 'Introvert', 'Extrovert',\n",
       "       'Extrovert', 'Extrovert', 'Extrovert', 'Extrovert', 'Extrovert',\n",
       "       'Extrovert', 'Introvert', 'Extrovert', 'Introvert', 'Introvert',\n",
       "       'Extrovert', 'Introvert', 'Introvert', 'Extrovert', 'Extrovert',\n",
       "       'Introvert', 'Extrovert', 'Extrovert', 'Introvert', 'Extrovert',\n",
       "       'Extrovert', 'Introvert', 'Introvert', 'Extrovert', 'Introvert',\n",
       "       'Extrovert', 'Introvert', 'Introvert', 'Extrovert', 'Introvert',\n",
       "       'Introvert', 'Introvert', 'Extrovert', 'Introvert', 'Extrovert',\n",
       "       'Introvert', 'Introvert', 'Introvert', 'Introvert', 'Extrovert',\n",
       "       'Extrovert', 'Extrovert', 'Introvert', 'Introvert', 'Introvert',\n",
       "       'Extrovert', 'Introvert', 'Introvert', 'Extrovert', 'Introvert',\n",
       "       'Extrovert', 'Introvert', 'Extrovert', 'Extrovert', 'Introvert',\n",
       "       'Introvert', 'Introvert', 'Introvert', 'Extrovert', 'Extrovert',\n",
       "       'Extrovert', 'Introvert', 'Introvert', 'Introvert', 'Extrovert',\n",
       "       'Extrovert', 'Extrovert', 'Extrovert', 'Extrovert', 'Introvert',\n",
       "       'Introvert', 'Extrovert', 'Extrovert', 'Introvert', 'Extrovert',\n",
       "       'Extrovert', 'Extrovert', 'Extrovert', 'Introvert', 'Extrovert',\n",
       "       'Extrovert', 'Extrovert', 'Introvert', 'Extrovert', 'Introvert',\n",
       "       'Introvert', 'Extrovert', 'Extrovert', 'Extrovert', 'Extrovert',\n",
       "       'Extrovert', 'Extrovert', 'Introvert', 'Extrovert', 'Introvert',\n",
       "       'Extrovert', 'Extrovert', 'Introvert', 'Introvert', 'Introvert',\n",
       "       'Introvert', 'Extrovert', 'Introvert', 'Extrovert', 'Extrovert',\n",
       "       'Introvert', 'Extrovert', 'Extrovert', 'Extrovert', 'Extrovert',\n",
       "       'Extrovert', 'Introvert', 'Introvert', 'Extrovert', 'Introvert',\n",
       "       'Introvert', 'Extrovert', 'Extrovert', 'Introvert', 'Introvert',\n",
       "       'Extrovert', 'Extrovert', 'Introvert', 'Extrovert', 'Introvert',\n",
       "       'Extrovert', 'Introvert', 'Introvert', 'Introvert', 'Introvert',\n",
       "       'Extrovert', 'Extrovert', 'Extrovert', 'Introvert', 'Extrovert',\n",
       "       'Introvert', 'Introvert', 'Extrovert', 'Extrovert', 'Extrovert',\n",
       "       'Introvert', 'Extrovert', 'Extrovert', 'Extrovert', 'Extrovert',\n",
       "       'Introvert', 'Extrovert', 'Introvert', 'Extrovert', 'Extrovert',\n",
       "       'Introvert', 'Extrovert', 'Extrovert', 'Extrovert', 'Extrovert',\n",
       "       'Introvert', 'Extrovert', 'Extrovert', 'Introvert', 'Extrovert',\n",
       "       'Introvert', 'Introvert', 'Extrovert', 'Introvert', 'Extrovert',\n",
       "       'Introvert', 'Introvert', 'Extrovert', 'Extrovert', 'Introvert',\n",
       "       'Introvert', 'Introvert', 'Introvert', 'Introvert', 'Introvert',\n",
       "       'Extrovert', 'Extrovert', 'Introvert', 'Extrovert', 'Extrovert',\n",
       "       'Extrovert', 'Extrovert', 'Introvert', 'Extrovert', 'Extrovert',\n",
       "       'Extrovert', 'Introvert', 'Introvert', 'Extrovert', 'Extrovert',\n",
       "       'Introvert', 'Extrovert', 'Introvert', 'Extrovert', 'Introvert',\n",
       "       'Introvert', 'Extrovert', 'Introvert', 'Extrovert', 'Extrovert',\n",
       "       'Introvert', 'Introvert', 'Introvert', 'Extrovert', 'Introvert',\n",
       "       'Introvert', 'Extrovert', 'Extrovert', 'Introvert', 'Extrovert',\n",
       "       'Introvert', 'Extrovert', 'Introvert', 'Extrovert', 'Extrovert',\n",
       "       'Introvert', 'Introvert', 'Extrovert', 'Extrovert', 'Introvert',\n",
       "       'Extrovert', 'Introvert', 'Extrovert', 'Introvert', 'Extrovert',\n",
       "       'Extrovert', 'Extrovert', 'Extrovert', 'Extrovert', 'Extrovert',\n",
       "       'Extrovert', 'Introvert', 'Introvert', 'Introvert', 'Introvert',\n",
       "       'Extrovert', 'Introvert', 'Introvert', 'Extrovert', 'Extrovert',\n",
       "       'Extrovert', 'Introvert', 'Extrovert', 'Introvert', 'Introvert',\n",
       "       'Extrovert', 'Introvert', 'Extrovert', 'Introvert', 'Introvert',\n",
       "       'Extrovert', 'Introvert', 'Extrovert', 'Extrovert', 'Introvert',\n",
       "       'Extrovert', 'Introvert', 'Introvert', 'Extrovert', 'Extrovert',\n",
       "       'Introvert', 'Extrovert', 'Introvert', 'Introvert', 'Extrovert',\n",
       "       'Introvert', 'Introvert', 'Introvert', 'Extrovert', 'Introvert',\n",
       "       'Extrovert', 'Extrovert', 'Extrovert', 'Introvert', 'Extrovert',\n",
       "       'Introvert', 'Extrovert', 'Introvert', 'Extrovert', 'Extrovert',\n",
       "       'Extrovert', 'Introvert', 'Extrovert', 'Introvert', 'Extrovert',\n",
       "       'Extrovert', 'Extrovert', 'Introvert', 'Extrovert', 'Introvert',\n",
       "       'Introvert', 'Introvert', 'Extrovert', 'Introvert', 'Extrovert',\n",
       "       'Extrovert', 'Introvert', 'Introvert', 'Introvert', 'Introvert',\n",
       "       'Introvert', 'Extrovert', 'Extrovert', 'Introvert', 'Extrovert',\n",
       "       'Extrovert', 'Extrovert', 'Introvert', 'Extrovert', 'Extrovert',\n",
       "       'Introvert', 'Extrovert', 'Extrovert', 'Introvert', 'Extrovert',\n",
       "       'Introvert', 'Extrovert', 'Extrovert', 'Extrovert', 'Extrovert',\n",
       "       'Introvert', 'Extrovert', 'Extrovert', 'Extrovert', 'Extrovert',\n",
       "       'Introvert', 'Extrovert', 'Introvert', 'Extrovert', 'Extrovert',\n",
       "       'Extrovert', 'Extrovert', 'Extrovert', 'Introvert', 'Extrovert',\n",
       "       'Introvert', 'Extrovert', 'Introvert', 'Extrovert', 'Extrovert',\n",
       "       'Introvert', 'Extrovert', 'Extrovert', 'Introvert', 'Introvert',\n",
       "       'Extrovert', 'Introvert', 'Introvert', 'Introvert', 'Introvert',\n",
       "       'Extrovert', 'Extrovert', 'Extrovert', 'Introvert', 'Extrovert',\n",
       "       'Extrovert', 'Introvert', 'Introvert', 'Introvert', 'Extrovert',\n",
       "       'Extrovert', 'Extrovert', 'Introvert', 'Extrovert', 'Introvert',\n",
       "       'Extrovert', 'Extrovert', 'Introvert', 'Extrovert', 'Extrovert',\n",
       "       'Introvert', 'Extrovert', 'Extrovert', 'Extrovert', 'Introvert',\n",
       "       'Extrovert', 'Extrovert', 'Introvert', 'Introvert', 'Extrovert',\n",
       "       'Introvert', 'Introvert', 'Introvert', 'Introvert', 'Extrovert',\n",
       "       'Extrovert', 'Introvert', 'Introvert', 'Extrovert', 'Extrovert',\n",
       "       'Introvert', 'Extrovert', 'Extrovert', 'Introvert', 'Extrovert',\n",
       "       'Extrovert', 'Introvert', 'Extrovert', 'Extrovert', 'Extrovert',\n",
       "       'Extrovert', 'Introvert', 'Extrovert', 'Introvert', 'Extrovert',\n",
       "       'Introvert', 'Extrovert', 'Extrovert', 'Introvert', 'Introvert',\n",
       "       'Extrovert', 'Extrovert', 'Introvert', 'Introvert', 'Introvert',\n",
       "       'Introvert', 'Introvert', 'Introvert', 'Introvert', 'Extrovert',\n",
       "       'Introvert', 'Extrovert', 'Introvert', 'Extrovert', 'Extrovert',\n",
       "       'Extrovert', 'Introvert', 'Introvert', 'Introvert', 'Extrovert',\n",
       "       'Introvert', 'Introvert', 'Extrovert', 'Extrovert', 'Introvert',\n",
       "       'Extrovert', 'Extrovert', 'Introvert', 'Introvert', 'Introvert',\n",
       "       'Introvert', 'Extrovert', 'Introvert', 'Extrovert', 'Extrovert',\n",
       "       'Introvert', 'Extrovert', 'Extrovert', 'Introvert', 'Extrovert',\n",
       "       'Introvert', 'Introvert', 'Extrovert', 'Extrovert', 'Extrovert',\n",
       "       'Introvert', 'Extrovert', 'Introvert', 'Extrovert', 'Introvert',\n",
       "       'Extrovert', 'Extrovert', 'Extrovert', 'Introvert', 'Extrovert',\n",
       "       'Extrovert', 'Extrovert', 'Extrovert', 'Introvert', 'Extrovert',\n",
       "       'Introvert', 'Introvert', 'Introvert', 'Extrovert', 'Extrovert',\n",
       "       'Extrovert', 'Introvert', 'Introvert', 'Introvert', 'Extrovert',\n",
       "       'Extrovert', 'Introvert', 'Extrovert', 'Extrovert', 'Extrovert',\n",
       "       'Extrovert', 'Extrovert', 'Extrovert', 'Introvert', 'Extrovert',\n",
       "       'Extrovert', 'Extrovert', 'Extrovert', 'Extrovert', 'Extrovert',\n",
       "       'Introvert', 'Extrovert', 'Introvert', 'Introvert', 'Extrovert',\n",
       "       'Introvert', 'Extrovert', 'Extrovert', 'Extrovert', 'Extrovert',\n",
       "       'Introvert', 'Extrovert', 'Extrovert', 'Extrovert', 'Extrovert',\n",
       "       'Introvert', 'Introvert', 'Extrovert', 'Extrovert', 'Extrovert',\n",
       "       'Introvert', 'Introvert', 'Extrovert', 'Introvert', 'Introvert',\n",
       "       'Introvert', 'Introvert', 'Extrovert', 'Extrovert', 'Introvert',\n",
       "       'Introvert', 'Extrovert', 'Introvert', 'Extrovert', 'Introvert',\n",
       "       'Introvert', 'Extrovert', 'Introvert', 'Introvert', 'Introvert',\n",
       "       'Extrovert', 'Extrovert', 'Extrovert', 'Introvert', 'Introvert',\n",
       "       'Introvert', 'Extrovert', 'Extrovert', 'Introvert', 'Extrovert',\n",
       "       'Extrovert', 'Introvert', 'Introvert', 'Extrovert', 'Extrovert',\n",
       "       'Introvert', 'Introvert', 'Introvert', 'Introvert', 'Extrovert',\n",
       "       'Introvert', 'Extrovert', 'Extrovert', 'Extrovert', 'Introvert',\n",
       "       'Introvert', 'Extrovert', 'Introvert', 'Introvert', 'Extrovert',\n",
       "       'Introvert', 'Extrovert', 'Introvert', 'Introvert', 'Introvert',\n",
       "       'Introvert', 'Introvert', 'Introvert', 'Extrovert', 'Extrovert',\n",
       "       'Introvert', 'Extrovert', 'Introvert', 'Introvert', 'Introvert',\n",
       "       'Introvert', 'Introvert', 'Extrovert', 'Introvert', 'Introvert',\n",
       "       'Extrovert', 'Extrovert', 'Introvert', 'Extrovert', 'Extrovert',\n",
       "       'Extrovert', 'Introvert', 'Extrovert', 'Introvert', 'Introvert',\n",
       "       'Extrovert', 'Extrovert', 'Introvert', 'Introvert', 'Introvert',\n",
       "       'Introvert', 'Extrovert', 'Extrovert', 'Extrovert', 'Extrovert',\n",
       "       'Extrovert', 'Extrovert', 'Introvert', 'Introvert', 'Introvert',\n",
       "       'Extrovert', 'Introvert', 'Introvert', 'Extrovert', 'Extrovert',\n",
       "       'Introvert', 'Extrovert', 'Extrovert', 'Introvert', 'Introvert',\n",
       "       'Extrovert', 'Extrovert', 'Extrovert', 'Introvert', 'Extrovert',\n",
       "       'Introvert', 'Introvert', 'Extrovert', 'Introvert', 'Extrovert',\n",
       "       'Introvert', 'Introvert', 'Introvert', 'Introvert', 'Extrovert',\n",
       "       'Extrovert', 'Introvert', 'Extrovert', 'Extrovert', 'Extrovert',\n",
       "       'Extrovert', 'Introvert', 'Extrovert', 'Introvert', 'Extrovert',\n",
       "       'Extrovert', 'Extrovert', 'Extrovert', 'Extrovert', 'Introvert',\n",
       "       'Extrovert', 'Introvert', 'Introvert', 'Extrovert', 'Extrovert',\n",
       "       'Introvert', 'Introvert', 'Extrovert', 'Introvert', 'Extrovert',\n",
       "       'Introvert', 'Introvert', 'Introvert', 'Extrovert', 'Introvert',\n",
       "       'Extrovert', 'Introvert', 'Extrovert', 'Extrovert', 'Extrovert',\n",
       "       'Extrovert', 'Introvert', 'Introvert', 'Extrovert', 'Extrovert',\n",
       "       'Introvert', 'Introvert', 'Introvert', 'Extrovert', 'Introvert',\n",
       "       'Extrovert', 'Extrovert', 'Extrovert', 'Extrovert', 'Extrovert',\n",
       "       'Extrovert', 'Introvert', 'Introvert', 'Extrovert', 'Introvert',\n",
       "       'Introvert', 'Extrovert', 'Extrovert', 'Introvert', 'Introvert',\n",
       "       'Extrovert', 'Extrovert', 'Extrovert', 'Introvert', 'Extrovert',\n",
       "       'Introvert', 'Extrovert', 'Introvert', 'Introvert', 'Extrovert',\n",
       "       'Extrovert', 'Introvert', 'Introvert', 'Extrovert', 'Introvert',\n",
       "       'Extrovert', 'Extrovert', 'Extrovert', 'Extrovert', 'Introvert',\n",
       "       'Introvert', 'Extrovert', 'Extrovert', 'Extrovert', 'Extrovert',\n",
       "       'Extrovert', 'Extrovert', 'Introvert', 'Extrovert', 'Extrovert',\n",
       "       'Extrovert', 'Introvert', 'Extrovert', 'Introvert', 'Introvert',\n",
       "       'Extrovert', 'Introvert', 'Extrovert', 'Introvert', 'Extrovert',\n",
       "       'Introvert', 'Extrovert', 'Introvert', 'Extrovert', 'Extrovert',\n",
       "       'Extrovert', 'Introvert', 'Extrovert', 'Introvert', 'Extrovert',\n",
       "       'Extrovert', 'Introvert', 'Introvert', 'Introvert', 'Extrovert',\n",
       "       'Introvert', 'Extrovert', 'Extrovert', 'Introvert', 'Introvert',\n",
       "       'Introvert', 'Introvert', 'Introvert', 'Extrovert', 'Introvert',\n",
       "       'Extrovert', 'Introvert', 'Extrovert', 'Introvert', 'Extrovert',\n",
       "       'Extrovert', 'Extrovert', 'Introvert', 'Extrovert', 'Introvert',\n",
       "       'Extrovert', 'Extrovert', 'Extrovert', 'Introvert', 'Extrovert',\n",
       "       'Extrovert', 'Introvert', 'Introvert', 'Extrovert', 'Introvert',\n",
       "       'Introvert', 'Extrovert', 'Extrovert', 'Extrovert', 'Extrovert',\n",
       "       'Introvert', 'Extrovert', 'Introvert', 'Extrovert', 'Introvert',\n",
       "       'Extrovert', 'Introvert', 'Extrovert', 'Introvert', 'Extrovert',\n",
       "       'Extrovert', 'Extrovert', 'Introvert', 'Extrovert', 'Extrovert',\n",
       "       'Extrovert', 'Introvert', 'Extrovert', 'Extrovert', 'Extrovert',\n",
       "       'Introvert', 'Extrovert', 'Introvert', 'Extrovert', 'Introvert',\n",
       "       'Extrovert', 'Introvert', 'Extrovert', 'Extrovert', 'Introvert',\n",
       "       'Introvert', 'Introvert', 'Introvert', 'Extrovert', 'Introvert',\n",
       "       'Introvert', 'Introvert', 'Introvert', 'Introvert', 'Introvert',\n",
       "       'Introvert', 'Introvert', 'Introvert', 'Extrovert', 'Introvert'],\n",
       "      dtype=object)"
      ]
     },
     "execution_count": 33,
     "metadata": {},
     "output_type": "execute_result"
    }
   ],
   "source": [
    "y_test"
   ]
  },
  {
   "cell_type": "code",
   "execution_count": 34,
   "id": "f116850a",
   "metadata": {},
   "outputs": [
    {
     "data": {
      "text/plain": [
       "array(['Extrovert', 'Extrovert', 'Introvert', 'Extrovert', 'Extrovert',\n",
       "       'Extrovert', 'Extrovert', 'Extrovert', 'Extrovert', 'Introvert',\n",
       "       'Extrovert', 'Extrovert', 'Introvert', 'Introvert', 'Introvert',\n",
       "       'Extrovert', 'Introvert', 'Introvert', 'Introvert', 'Introvert',\n",
       "       'Introvert', 'Introvert', 'Introvert', 'Introvert', 'Extrovert',\n",
       "       'Extrovert', 'Introvert', 'Introvert', 'Extrovert', 'Extrovert',\n",
       "       'Introvert', 'Extrovert', 'Extrovert', 'Extrovert', 'Extrovert',\n",
       "       'Extrovert', 'Introvert', 'Extrovert', 'Introvert', 'Extrovert',\n",
       "       'Extrovert', 'Introvert', 'Extrovert', 'Extrovert', 'Introvert',\n",
       "       'Introvert', 'Introvert', 'Extrovert', 'Introvert', 'Introvert',\n",
       "       'Extrovert', 'Introvert', 'Introvert', 'Extrovert', 'Extrovert',\n",
       "       'Introvert', 'Extrovert', 'Introvert', 'Introvert', 'Extrovert',\n",
       "       'Extrovert', 'Introvert', 'Extrovert', 'Extrovert', 'Introvert',\n",
       "       'Extrovert', 'Introvert', 'Introvert', 'Extrovert', 'Introvert',\n",
       "       'Introvert', 'Extrovert', 'Introvert', 'Introvert', 'Extrovert',\n",
       "       'Introvert', 'Introvert', 'Introvert', 'Introvert', 'Extrovert',\n",
       "       'Extrovert', 'Extrovert', 'Introvert', 'Introvert', 'Introvert',\n",
       "       'Extrovert', 'Introvert', 'Extrovert', 'Extrovert', 'Introvert',\n",
       "       'Extrovert', 'Introvert', 'Extrovert', 'Extrovert', 'Introvert',\n",
       "       'Introvert', 'Introvert', 'Introvert', 'Extrovert', 'Extrovert',\n",
       "       'Extrovert', 'Introvert', 'Introvert', 'Introvert', 'Extrovert',\n",
       "       'Extrovert', 'Extrovert', 'Extrovert', 'Extrovert', 'Introvert',\n",
       "       'Introvert', 'Extrovert', 'Introvert', 'Introvert', 'Introvert',\n",
       "       'Extrovert', 'Extrovert', 'Extrovert', 'Introvert', 'Extrovert',\n",
       "       'Extrovert', 'Extrovert', 'Introvert', 'Extrovert', 'Introvert',\n",
       "       'Introvert', 'Extrovert', 'Extrovert', 'Extrovert', 'Introvert',\n",
       "       'Extrovert', 'Introvert', 'Introvert', 'Extrovert', 'Introvert',\n",
       "       'Extrovert', 'Introvert', 'Introvert', 'Introvert', 'Introvert',\n",
       "       'Introvert', 'Extrovert', 'Introvert', 'Extrovert', 'Extrovert',\n",
       "       'Introvert', 'Extrovert', 'Extrovert', 'Extrovert', 'Extrovert',\n",
       "       'Extrovert', 'Introvert', 'Introvert', 'Introvert', 'Introvert',\n",
       "       'Introvert', 'Extrovert', 'Extrovert', 'Introvert', 'Introvert',\n",
       "       'Extrovert', 'Extrovert', 'Introvert', 'Introvert', 'Introvert',\n",
       "       'Extrovert', 'Introvert', 'Introvert', 'Introvert', 'Introvert',\n",
       "       'Extrovert', 'Extrovert', 'Extrovert', 'Introvert', 'Extrovert',\n",
       "       'Introvert', 'Introvert', 'Extrovert', 'Extrovert', 'Introvert',\n",
       "       'Introvert', 'Extrovert', 'Introvert', 'Extrovert', 'Extrovert',\n",
       "       'Introvert', 'Extrovert', 'Extrovert', 'Extrovert', 'Extrovert',\n",
       "       'Introvert', 'Extrovert', 'Extrovert', 'Extrovert', 'Extrovert',\n",
       "       'Introvert', 'Extrovert', 'Extrovert', 'Introvert', 'Extrovert',\n",
       "       'Introvert', 'Introvert', 'Extrovert', 'Introvert', 'Extrovert',\n",
       "       'Introvert', 'Introvert', 'Extrovert', 'Extrovert', 'Introvert',\n",
       "       'Introvert', 'Introvert', 'Introvert', 'Introvert', 'Introvert',\n",
       "       'Extrovert', 'Extrovert', 'Introvert', 'Extrovert', 'Extrovert',\n",
       "       'Extrovert', 'Extrovert', 'Extrovert', 'Extrovert', 'Extrovert',\n",
       "       'Extrovert', 'Introvert', 'Introvert', 'Extrovert', 'Extrovert',\n",
       "       'Introvert', 'Extrovert', 'Introvert', 'Extrovert', 'Introvert',\n",
       "       'Extrovert', 'Extrovert', 'Introvert', 'Extrovert', 'Extrovert',\n",
       "       'Introvert', 'Introvert', 'Introvert', 'Extrovert', 'Introvert',\n",
       "       'Introvert', 'Extrovert', 'Extrovert', 'Introvert', 'Extrovert',\n",
       "       'Introvert', 'Extrovert', 'Introvert', 'Extrovert', 'Extrovert',\n",
       "       'Introvert', 'Introvert', 'Extrovert', 'Extrovert', 'Introvert',\n",
       "       'Extrovert', 'Introvert', 'Extrovert', 'Introvert', 'Extrovert',\n",
       "       'Extrovert', 'Extrovert', 'Extrovert', 'Extrovert', 'Extrovert',\n",
       "       'Extrovert', 'Introvert', 'Introvert', 'Introvert', 'Introvert',\n",
       "       'Extrovert', 'Introvert', 'Introvert', 'Extrovert', 'Extrovert',\n",
       "       'Extrovert', 'Introvert', 'Extrovert', 'Introvert', 'Extrovert',\n",
       "       'Extrovert', 'Introvert', 'Extrovert', 'Extrovert', 'Extrovert',\n",
       "       'Extrovert', 'Introvert', 'Extrovert', 'Extrovert', 'Introvert',\n",
       "       'Extrovert', 'Introvert', 'Introvert', 'Extrovert', 'Extrovert',\n",
       "       'Introvert', 'Extrovert', 'Introvert', 'Introvert', 'Extrovert',\n",
       "       'Introvert', 'Introvert', 'Introvert', 'Extrovert', 'Introvert',\n",
       "       'Extrovert', 'Extrovert', 'Extrovert', 'Introvert', 'Extrovert',\n",
       "       'Extrovert', 'Introvert', 'Introvert', 'Extrovert', 'Extrovert',\n",
       "       'Extrovert', 'Introvert', 'Extrovert', 'Introvert', 'Extrovert',\n",
       "       'Extrovert', 'Extrovert', 'Introvert', 'Extrovert', 'Introvert',\n",
       "       'Introvert', 'Introvert', 'Extrovert', 'Introvert', 'Extrovert',\n",
       "       'Extrovert', 'Introvert', 'Introvert', 'Introvert', 'Introvert',\n",
       "       'Introvert', 'Extrovert', 'Extrovert', 'Introvert', 'Extrovert',\n",
       "       'Extrovert', 'Extrovert', 'Introvert', 'Extrovert', 'Extrovert',\n",
       "       'Introvert', 'Extrovert', 'Extrovert', 'Introvert', 'Extrovert',\n",
       "       'Introvert', 'Extrovert', 'Extrovert', 'Extrovert', 'Extrovert',\n",
       "       'Introvert', 'Introvert', 'Extrovert', 'Extrovert', 'Introvert',\n",
       "       'Introvert', 'Extrovert', 'Introvert', 'Extrovert', 'Extrovert',\n",
       "       'Extrovert', 'Extrovert', 'Extrovert', 'Introvert', 'Extrovert',\n",
       "       'Introvert', 'Extrovert', 'Introvert', 'Extrovert', 'Extrovert',\n",
       "       'Introvert', 'Extrovert', 'Extrovert', 'Extrovert', 'Extrovert',\n",
       "       'Extrovert', 'Introvert', 'Introvert', 'Introvert', 'Introvert',\n",
       "       'Extrovert', 'Extrovert', 'Extrovert', 'Introvert', 'Extrovert',\n",
       "       'Extrovert', 'Introvert', 'Introvert', 'Introvert', 'Extrovert',\n",
       "       'Extrovert', 'Extrovert', 'Introvert', 'Extrovert', 'Introvert',\n",
       "       'Extrovert', 'Extrovert', 'Introvert', 'Extrovert', 'Extrovert',\n",
       "       'Introvert', 'Extrovert', 'Extrovert', 'Extrovert', 'Introvert',\n",
       "       'Extrovert', 'Extrovert', 'Extrovert', 'Introvert', 'Extrovert',\n",
       "       'Introvert', 'Introvert', 'Introvert', 'Introvert', 'Extrovert',\n",
       "       'Extrovert', 'Introvert', 'Extrovert', 'Extrovert', 'Extrovert',\n",
       "       'Extrovert', 'Extrovert', 'Extrovert', 'Introvert', 'Extrovert',\n",
       "       'Extrovert', 'Introvert', 'Extrovert', 'Extrovert', 'Extrovert',\n",
       "       'Extrovert', 'Introvert', 'Extrovert', 'Introvert', 'Extrovert',\n",
       "       'Introvert', 'Extrovert', 'Introvert', 'Introvert', 'Introvert',\n",
       "       'Extrovert', 'Extrovert', 'Introvert', 'Introvert', 'Introvert',\n",
       "       'Introvert', 'Introvert', 'Introvert', 'Introvert', 'Extrovert',\n",
       "       'Introvert', 'Extrovert', 'Introvert', 'Introvert', 'Extrovert',\n",
       "       'Introvert', 'Introvert', 'Introvert', 'Introvert', 'Extrovert',\n",
       "       'Introvert', 'Introvert', 'Extrovert', 'Extrovert', 'Introvert',\n",
       "       'Extrovert', 'Introvert', 'Introvert', 'Introvert', 'Introvert',\n",
       "       'Introvert', 'Extrovert', 'Introvert', 'Introvert', 'Extrovert',\n",
       "       'Introvert', 'Introvert', 'Extrovert', 'Introvert', 'Extrovert',\n",
       "       'Introvert', 'Introvert', 'Extrovert', 'Extrovert', 'Extrovert',\n",
       "       'Introvert', 'Extrovert', 'Introvert', 'Extrovert', 'Introvert',\n",
       "       'Extrovert', 'Extrovert', 'Introvert', 'Introvert', 'Extrovert',\n",
       "       'Extrovert', 'Extrovert', 'Introvert', 'Introvert', 'Extrovert',\n",
       "       'Introvert', 'Introvert', 'Introvert', 'Extrovert', 'Extrovert',\n",
       "       'Extrovert', 'Introvert', 'Introvert', 'Introvert', 'Extrovert',\n",
       "       'Extrovert', 'Introvert', 'Extrovert', 'Extrovert', 'Extrovert',\n",
       "       'Extrovert', 'Introvert', 'Extrovert', 'Introvert', 'Extrovert',\n",
       "       'Extrovert', 'Extrovert', 'Introvert', 'Extrovert', 'Extrovert',\n",
       "       'Introvert', 'Extrovert', 'Introvert', 'Introvert', 'Extrovert',\n",
       "       'Introvert', 'Extrovert', 'Extrovert', 'Extrovert', 'Extrovert',\n",
       "       'Introvert', 'Extrovert', 'Introvert', 'Extrovert', 'Introvert',\n",
       "       'Introvert', 'Introvert', 'Extrovert', 'Extrovert', 'Extrovert',\n",
       "       'Introvert', 'Introvert', 'Extrovert', 'Introvert', 'Introvert',\n",
       "       'Introvert', 'Introvert', 'Extrovert', 'Extrovert', 'Introvert',\n",
       "       'Introvert', 'Extrovert', 'Introvert', 'Extrovert', 'Introvert',\n",
       "       'Introvert', 'Extrovert', 'Introvert', 'Introvert', 'Introvert',\n",
       "       'Introvert', 'Introvert', 'Extrovert', 'Introvert', 'Introvert',\n",
       "       'Introvert', 'Extrovert', 'Introvert', 'Introvert', 'Extrovert',\n",
       "       'Extrovert', 'Introvert', 'Introvert', 'Extrovert', 'Extrovert',\n",
       "       'Introvert', 'Introvert', 'Introvert', 'Introvert', 'Extrovert',\n",
       "       'Introvert', 'Extrovert', 'Extrovert', 'Extrovert', 'Introvert',\n",
       "       'Introvert', 'Extrovert', 'Introvert', 'Introvert', 'Extrovert',\n",
       "       'Introvert', 'Extrovert', 'Introvert', 'Introvert', 'Introvert',\n",
       "       'Introvert', 'Introvert', 'Introvert', 'Extrovert', 'Extrovert',\n",
       "       'Introvert', 'Extrovert', 'Introvert', 'Introvert', 'Introvert',\n",
       "       'Introvert', 'Introvert', 'Introvert', 'Introvert', 'Introvert',\n",
       "       'Extrovert', 'Extrovert', 'Introvert', 'Extrovert', 'Extrovert',\n",
       "       'Extrovert', 'Introvert', 'Extrovert', 'Introvert', 'Introvert',\n",
       "       'Extrovert', 'Extrovert', 'Introvert', 'Introvert', 'Introvert',\n",
       "       'Introvert', 'Extrovert', 'Extrovert', 'Extrovert', 'Extrovert',\n",
       "       'Extrovert', 'Extrovert', 'Introvert', 'Introvert', 'Introvert',\n",
       "       'Extrovert', 'Introvert', 'Introvert', 'Extrovert', 'Extrovert',\n",
       "       'Introvert', 'Extrovert', 'Extrovert', 'Introvert', 'Introvert',\n",
       "       'Extrovert', 'Extrovert', 'Extrovert', 'Introvert', 'Extrovert',\n",
       "       'Introvert', 'Introvert', 'Extrovert', 'Introvert', 'Extrovert',\n",
       "       'Introvert', 'Extrovert', 'Introvert', 'Introvert', 'Extrovert',\n",
       "       'Extrovert', 'Introvert', 'Extrovert', 'Extrovert', 'Extrovert',\n",
       "       'Extrovert', 'Introvert', 'Extrovert', 'Introvert', 'Extrovert',\n",
       "       'Extrovert', 'Extrovert', 'Extrovert', 'Extrovert', 'Introvert',\n",
       "       'Extrovert', 'Introvert', 'Introvert', 'Extrovert', 'Extrovert',\n",
       "       'Introvert', 'Introvert', 'Extrovert', 'Introvert', 'Extrovert',\n",
       "       'Introvert', 'Extrovert', 'Introvert', 'Extrovert', 'Introvert',\n",
       "       'Extrovert', 'Extrovert', 'Extrovert', 'Introvert', 'Extrovert',\n",
       "       'Extrovert', 'Introvert', 'Extrovert', 'Extrovert', 'Extrovert',\n",
       "       'Introvert', 'Introvert', 'Introvert', 'Extrovert', 'Introvert',\n",
       "       'Extrovert', 'Extrovert', 'Extrovert', 'Extrovert', 'Extrovert',\n",
       "       'Extrovert', 'Introvert', 'Extrovert', 'Extrovert', 'Introvert',\n",
       "       'Introvert', 'Extrovert', 'Extrovert', 'Introvert', 'Introvert',\n",
       "       'Extrovert', 'Extrovert', 'Extrovert', 'Introvert', 'Extrovert',\n",
       "       'Introvert', 'Extrovert', 'Introvert', 'Introvert', 'Extrovert',\n",
       "       'Extrovert', 'Introvert', 'Introvert', 'Extrovert', 'Introvert',\n",
       "       'Extrovert', 'Extrovert', 'Extrovert', 'Extrovert', 'Introvert',\n",
       "       'Introvert', 'Extrovert', 'Extrovert', 'Extrovert', 'Extrovert',\n",
       "       'Extrovert', 'Extrovert', 'Introvert', 'Extrovert', 'Extrovert',\n",
       "       'Introvert', 'Introvert', 'Extrovert', 'Introvert', 'Introvert',\n",
       "       'Extrovert', 'Introvert', 'Extrovert', 'Introvert', 'Extrovert',\n",
       "       'Introvert', 'Extrovert', 'Introvert', 'Extrovert', 'Extrovert',\n",
       "       'Extrovert', 'Introvert', 'Extrovert', 'Introvert', 'Extrovert',\n",
       "       'Extrovert', 'Introvert', 'Introvert', 'Introvert', 'Extrovert',\n",
       "       'Introvert', 'Extrovert', 'Extrovert', 'Introvert', 'Introvert',\n",
       "       'Introvert', 'Introvert', 'Introvert', 'Extrovert', 'Introvert',\n",
       "       'Extrovert', 'Introvert', 'Extrovert', 'Introvert', 'Introvert',\n",
       "       'Extrovert', 'Extrovert', 'Introvert', 'Extrovert', 'Introvert',\n",
       "       'Extrovert', 'Introvert', 'Extrovert', 'Introvert', 'Extrovert',\n",
       "       'Extrovert', 'Introvert', 'Introvert', 'Extrovert', 'Introvert',\n",
       "       'Introvert', 'Extrovert', 'Extrovert', 'Extrovert', 'Extrovert',\n",
       "       'Introvert', 'Extrovert', 'Introvert', 'Extrovert', 'Introvert',\n",
       "       'Extrovert', 'Introvert', 'Extrovert', 'Introvert', 'Extrovert',\n",
       "       'Extrovert', 'Extrovert', 'Introvert', 'Extrovert', 'Extrovert',\n",
       "       'Extrovert', 'Introvert', 'Introvert', 'Extrovert', 'Extrovert',\n",
       "       'Introvert', 'Introvert', 'Introvert', 'Extrovert', 'Introvert',\n",
       "       'Extrovert', 'Introvert', 'Extrovert', 'Extrovert', 'Introvert',\n",
       "       'Introvert', 'Introvert', 'Introvert', 'Extrovert', 'Introvert',\n",
       "       'Introvert', 'Introvert', 'Introvert', 'Introvert', 'Introvert',\n",
       "       'Introvert', 'Introvert', 'Introvert', 'Extrovert', 'Introvert'],\n",
       "      dtype='<U9')"
      ]
     },
     "execution_count": 34,
     "metadata": {},
     "output_type": "execute_result"
    }
   ],
   "source": [
    "from sklearn.naive_bayes import MultinomialNB\n",
    "model=MultinomialNB()\n",
    "model.fit(x_train,y_train)\n",
    "y_pred=model.predict(x_test)\n",
    "y_pred"
   ]
  },
  {
   "cell_type": "code",
   "execution_count": 35,
   "id": "9f4e3d0c",
   "metadata": {},
   "outputs": [
    {
     "data": {
      "text/plain": [
       "array([[426,  41],\n",
       "       [ 22, 381]])"
      ]
     },
     "execution_count": 35,
     "metadata": {},
     "output_type": "execute_result"
    }
   ],
   "source": [
    "from sklearn.metrics import confusion_matrix, accuracy_score\n",
    "cm=confusion_matrix(y_test,y_pred)\n",
    "cm"
   ]
  },
  {
   "cell_type": "code",
   "execution_count": 36,
   "id": "e64afb70",
   "metadata": {},
   "outputs": [
    {
     "data": {
      "text/plain": [
       "0.9275862068965517"
      ]
     },
     "execution_count": 36,
     "metadata": {},
     "output_type": "execute_result"
    }
   ],
   "source": [
    "score=accuracy_score(y_test,y_pred)\n",
    "score"
   ]
  }
 ],
 "metadata": {
  "kernelspec": {
   "display_name": "Python 3",
   "language": "python",
   "name": "python3"
  },
  "language_info": {
   "codemirror_mode": {
    "name": "ipython",
    "version": 3
   },
   "file_extension": ".py",
   "mimetype": "text/x-python",
   "name": "python",
   "nbconvert_exporter": "python",
   "pygments_lexer": "ipython3",
   "version": "3.10.10"
  }
 },
 "nbformat": 4,
 "nbformat_minor": 5
}
